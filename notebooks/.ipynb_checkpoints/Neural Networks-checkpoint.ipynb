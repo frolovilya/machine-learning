{
 "cells": [
  {
   "cell_type": "markdown",
   "metadata": {},
   "source": [
    "# Neural Networks"
   ]
  },
  {
   "cell_type": "code",
   "execution_count": 1,
   "metadata": {
    "code_folding": [
     0
    ]
   },
   "outputs": [],
   "source": [
    "# load libs\n",
    "import sys\n",
    "sys.path.append(\"../\")\n",
    "\n",
    "import numpy as np\n",
    "import scipy.io\n",
    "import matplotlib.pyplot as plt\n",
    "import math\n",
    "from neural_network import *\n",
    "from image_recognition import *"
   ]
  },
  {
   "cell_type": "markdown",
   "metadata": {},
   "source": [
    "Neural network consists of L total layers: 1 input layer ($x^{(0)}$), $L - 2$ hidden layers ($a^{(1)} ... a^{(l - 1)}$) and 1 output layer ($a^{(L)}$):\n",
    "\n",
    "$$\n",
    "\\begin{bmatrix}\n",
    "x^{(0)}_{0}\\\\\n",
    "x^{(0)}_{1}\\\\\n",
    "x^{(0)}_{2}\n",
    "\\end{bmatrix}\n",
    "\\begin{bmatrix}\n",
    "a^{(1)}_{0}\\\\\n",
    "a^{(1)}_{1}\\\\\n",
    "a^{(1)}_{2}\\\\\n",
    "a^{(1)}_{3}\\\\\n",
    "a^{(1)}_{4}\\\\\n",
    "\\end{bmatrix}\n",
    "...\n",
    "\\begin{bmatrix}\n",
    "a^{(l - 1)}_{0}\\\\\n",
    "a^{(l - 1)}_{1}\\\\\n",
    "a^{(l - 1)}_{2}\\\\\n",
    "a^{(l - 1)}_{3}\\\\\n",
    "a^{(l - 1)}_{4}\\\\\n",
    "\\end{bmatrix}\n",
    "\\begin{bmatrix}\n",
    "a^{(L)}_{0}\\\\\n",
    "a^{(L)}_{1}\\\\\n",
    "a^{(L)}_{2}\\\\\n",
    "\\end{bmatrix}\n",
    "$$\n",
    "\n",
    "Each layer's unit is a logistic regression classifier and connected to the next layer's units with edges of weight $\\theta^{(l)}_{ij}$."
   ]
  },
  {
   "cell_type": "markdown",
   "metadata": {},
   "source": [
    "## Forward Propagation\n",
    "\n",
    "Propagating values from left to right to calculate output layer's values.\n",
    "\n",
    "Input layer:\n",
    "\n",
    "$$a^{(0)} = X$$\n",
    "\n",
    "Hidden and output layers:\n",
    "\n",
    "$$a^{(l + 1)} = g((\\Theta^{(l)})^T a^{(l)})$$\n",
    "\n",
    "where $g$ is a logistic regression sigmoid function."
   ]
  },
  {
   "cell_type": "code",
   "execution_count": 2,
   "metadata": {},
   "outputs": [],
   "source": [
    "# %load -s forward_propagation ../neural_network.py\n",
    "def forward_propagation(layer_coefficients, input_data):\n",
    "    \"\"\"\n",
    "    Calculate neural network output based on input data and layer coefficients.\n",
    "    Forward propagation algorithm.\n",
    "\n",
    "    :param layer_coefficients: 1 x (L - 1) array of layer coefficients vectors, where L - layers count\n",
    "    :param input_data: S0 x m input layer vector, where S0 - input layer units count, m - experiments count\n",
    "    :return: 1 x l vector of layer activation vectors Sl x m, where Sl - l'th layer units count,\n",
    "             m - experiments count\n",
    "    \"\"\"\n",
    "    data = [input_data]  # S0 x m\n",
    "\n",
    "    for theta in layer_coefficients:\n",
    "        data.append(\n",
    "            sigmoid(np.dot(\n",
    "                theta,  # Sl x (S[l-1] + 1)\n",
    "                np.vstack(([np.ones(data[-1].shape[1])], data[-1]))  # (S[l-1] + 1) x m\n",
    "            ))  # Sl x m\n",
    "        )\n",
    "\n",
    "    return data\n"
   ]
  },
  {
   "cell_type": "code",
   "execution_count": 3,
   "metadata": {
    "code_folding": [
     0
    ]
   },
   "outputs": [],
   "source": [
    "# load neural network data and weights\n",
    "data = scipy.io.loadmat('../data/ex3data1.mat')\n",
    "x = data['X']  # m x n^2, where m - experiments count, n - square image size\n",
    "y = data['y']  # m x 1 vector of image classes (numbers 0 - 9)\n",
    "\n",
    "weights = scipy.io.loadmat('../data/ex3weights.mat')\n",
    "nn_coefficients = (\n",
    "    weights['Theta1'],  # S1 x (n^2 + 1), where S1 - hidden layer size, n - square image size\n",
    "    weights['Theta2']   # SL x (S1 + 1), where SL - output layer size, S1 - hidden layer size\n",
    ")"
   ]
  },
  {
   "cell_type": "code",
   "execution_count": 4,
   "metadata": {
    "code_folding": [
     0
    ]
   },
   "outputs": [],
   "source": [
    "# find index of the output unit with the max value\n",
    "def predict_digit(nn_coefficients, image):\n",
    "    output_data = forward_propagation(nn_coefficients, image)[-1]\n",
    "    max_index = np.argmax(output_data) + 1\n",
    "    \n",
    "    # data set contains 10 instead of 0\n",
    "    return max_index if max_index < 10 else 0"
   ]
  },
  {
   "cell_type": "markdown",
   "metadata": {},
   "source": [
    "Predicting digits using already pre-trained neural network $\\Theta$ weights."
   ]
  },
  {
   "cell_type": "code",
   "execution_count": 5,
   "metadata": {
    "code_folding": []
   },
   "outputs": [
    {
     "name": "stdout",
     "output_type": "stream",
     "text": [
      "Prediction accuracy = 97.52%\n"
     ]
    }
   ],
   "source": [
    "# predict images\n",
    "nn_predictions = [predict_digit(nn_coefficients, image.reshape(image.size, 1)) for image in x]\n",
    "print_predictions_accuracy(nn_predictions, y)"
   ]
  },
  {
   "cell_type": "code",
   "execution_count": 6,
   "metadata": {},
   "outputs": [
    {
     "name": "stdout",
     "output_type": "stream",
     "text": [
      "[2, 6, 5, 2, 9, 5, 7, 2, 4, 0, 8, 3, 5, 8, 1, 9, 2, 4, 6, 4]\n"
     ]
    },
    {
     "data": {
      "image/png": "[encoded data removed]",
      "text/plain": [
       "<Figure size 432x288 with 1 Axes>"
      ]
     },
     "metadata": {
      "needs_background": "light"
     },
     "output_type": "display_data"
    }
   ],
   "source": [
    "predict_random_images(nn_predictions, x)"
   ]
  },
  {
   "cell_type": "markdown",
   "metadata": {},
   "source": [
    "## Cost Function"
   ]
  },
  {
   "cell_type": "markdown",
   "metadata": {},
   "source": [
    "Given that $L$ - number of layers, $s_l$ - number of units in layer $l$:\n",
    "\n",
    "$$J(\\Theta) = - \\frac{1}{m} \\sum_{i=0}^{m} \\sum_{k=0}^{S_L} \n",
    "        [{ y^{(i)}_k log(h(X^{(i)})_k) + (1 - y^{(i)}_k) log(1 - h(X^{(i)})_k) }] \n",
    "    + \\frac{\\lambda}{2 m} \\sum_{l=0}^{L} \\sum_{i=0}^{s_l} \\sum_{j=1}^{s_i} (\\theta^{(l)}_{ij})^2$$\n",
    "    \n",
    "Calculating cost function as a sum of the last layer's cost functions regularized over all $\\Theta^{(l)}_{ij}$ coefficient values."
   ]
  },
  {
   "cell_type": "code",
   "execution_count": 7,
   "metadata": {
    "code_folding": [
     0
    ]
   },
   "outputs": [],
   "source": [
    "# %load -s roll_vector_to_list_of_matrices ../neural_network.py\n",
    "def roll_vector_to_list_of_matrices(v, shapes):\n",
    "    first = 0\n",
    "    result = []\n",
    "\n",
    "    for shape in shapes:\n",
    "        last = first + shape[0] * shape[1]\n",
    "        result.append(np.array(v[first:last]).reshape(shape[0], shape[1]))\n",
    "        first = last\n",
    "\n",
    "    return result\n"
   ]
  },
  {
   "cell_type": "code",
   "execution_count": 8,
   "metadata": {
    "code_folding": [
     0
    ]
   },
   "outputs": [],
   "source": [
    "# %load -s unroll_list_of_matrices_to_vector ../neural_network.py\n",
    "def unroll_list_of_matrices_to_vector(l):\n",
    "    result_vector = np.array([])\n",
    "    original_shape = []\n",
    "\n",
    "    for m in l:\n",
    "        original_shape.append(m.shape)\n",
    "        result_vector = np.hstack([\n",
    "            result_vector,\n",
    "            m.reshape(m.shape[0] * m.shape[1])\n",
    "        ])\n",
    "\n",
    "    return original_shape, result_vector\n"
   ]
  },
  {
   "cell_type": "code",
   "execution_count": 9,
   "metadata": {},
   "outputs": [],
   "source": [
    "# %load -s nn_cost_function ../neural_network.py\n",
    "def nn_cost_function(layer_coefficients, x, y):\n",
    "    \"\"\"\n",
    "    Calculate cost function for neural network\n",
    "\n",
    "    :param layer_coefficients: 1 x (L - 1) array of layer coefficients vectors, where L - layers count\n",
    "    :param x: S0 x m input layer vector, where S0 - input layer units count, m - experiments count\n",
    "    :param y: SL x m expected results matrix, where Sl - output layer units count, m - experiments count\n",
    "    :return: summary cost\n",
    "    \"\"\"\n",
    "    return - 1 / y.shape[1] * np.sum((\n",
    "            np.multiply(y, np.log(forward_propagation(layer_coefficients, x)[-1]))  # SL x m\n",
    "            +\n",
    "            np.multiply((1 - y), np.log(1 - forward_propagation(layer_coefficients, x)[-1]))  # SL x m\n",
    "    ))\n"
   ]
  },
  {
   "cell_type": "code",
   "execution_count": 10,
   "metadata": {
    "code_folding": [
     0
    ]
   },
   "outputs": [
    {
     "data": {
      "text/plain": [
       "0.287629165161319"
      ]
     },
     "execution_count": 10,
     "metadata": {},
     "output_type": "execute_result"
    }
   ],
   "source": [
    "# check cost function value for provided neural network coefficients\n",
    "def digit_to_output_vector(digit):\n",
    "    \"\"\"\n",
    "    Returns 10 x 1 vector with all 0 except 1 for index corresponding to the provided digit.\n",
    "    If digit == 0, then 10th element == 1.\n",
    "    \"\"\"\n",
    "    out = np.zeros(10)\n",
    "    out[9 if digit == 0 else digit - 1] = 1\n",
    "    return out\n",
    "\n",
    "\n",
    "expected_output = np.array([digit_to_output_vector(d) for d in y]).transpose()\n",
    "nn_cost_function(nn_coefficients, x.transpose(), expected_output)"
   ]
  },
  {
   "cell_type": "code",
   "execution_count": 11,
   "metadata": {},
   "outputs": [],
   "source": [
    "# %load -s nn_regularized_cost_function ../neural_network.py\n",
    "def nn_regularized_cost_function(unrolled_layer_coefficients, shape, x, y, regularization_rate):\n",
    "    \"\"\"\n",
    "    Regularized neural network cost function.\n",
    "    See nn_cost_function description.\n",
    "    \"\"\"\n",
    "    layer_coefficients = roll_vector_to_list_of_matrices(unrolled_layer_coefficients, shape)\n",
    "\n",
    "    cost = nn_cost_function(layer_coefficients, x, y)\n",
    "\n",
    "    for theta in layer_coefficients:\n",
    "        unrolled_theta = theta.reshape(theta.shape[0] * theta.shape[1], 1)\n",
    "\n",
    "        cost += regularization_rate / (2 * y.shape[1]) \\\n",
    "                * (unrolled_theta.transpose() @ unrolled_theta)[0, 0]\n",
    "\n",
    "    return cost\n"
   ]
  },
  {
   "cell_type": "code",
   "execution_count": 12,
   "metadata": {
    "code_folding": [
     0
    ]
   },
   "outputs": [
    {
     "data": {
      "text/plain": [
       "0.38448779624289403"
      ]
     },
     "execution_count": 12,
     "metadata": {},
     "output_type": "execute_result"
    }
   ],
   "source": [
    "# check regularized cost function value for provided neural network coefficients\n",
    "original_shape, unrolled_nn_coefficients = unroll_list_of_matrices_to_vector(nn_coefficients)\n",
    "\n",
    "nn_regularized_cost_function(unrolled_nn_coefficients, original_shape, x.transpose(), expected_output, 1)"
   ]
  },
  {
   "cell_type": "markdown",
   "metadata": {},
   "source": [
    "## Backpropagation Algorithm"
   ]
  },
  {
   "cell_type": "markdown",
   "metadata": {},
   "source": [
    "Is used to calculate cost function first derivative over all l, i, j:\n",
    "$$\\frac{dJ}{d\\Theta^{(l)}_{ij}}$$\n",
    "\n",
    "Lets introduce cost function error $\\delta^{(l)}$ for each layer $l$ and propagate this value from right to left.\n",
    "\n",
    "For the last layer $L$: \n",
    "$$\\delta^{(L)} = a^{(L)} - y$$\n",
    "\n",
    "For $[2, L-1]$ layers:\n",
    "$$\\delta^{(l)} = (\\Theta^{(l)})^T \\delta^{(l + 1)} \\cdot g^{'}(z^{(l)})$$"
   ]
  },
  {
   "cell_type": "code",
   "execution_count": 13,
   "metadata": {},
   "outputs": [],
   "source": [
    "# %load -s back_propagation ../neural_network.py\n",
    "def back_propagation(layer_coefficients, y, output):\n",
    "    \"\"\"\n",
    "    Calculate error delta values for each layer and unit\n",
    "\n",
    "    :param layer_coefficients: 1 x (L - 1) array of layer coefficients vectors, where L - layers count\n",
    "    :param y: SL x m expected results matrix, where SL - output layer units count, m - experiments count\n",
    "    :param output: 1 x l vector of layer activation vectors Sl x m, where Sl - l'th layer units count,\n",
    "             m - experiments count\n",
    "    :return: 1 x (L - 1) vector of Sl x m delta values\n",
    "    \"\"\"\n",
    "    delta = [output[-1] - y]\n",
    "\n",
    "    for l in reversed(range(1, len(layer_coefficients))):\n",
    "        delta.insert(\n",
    "            0,\n",
    "            np.multiply(\n",
    "                np.dot(\n",
    "                    layer_coefficients[l].transpose(),  # (Sl + 1) x S[l + 1]\n",
    "                    delta[0]  # S[l + 1] x m\n",
    "                )[1:, :],  # Sl x m\n",
    "                sigmoid_derivative(output[l])  # Sl x m\n",
    "            )\n",
    "        )\n",
    "\n",
    "    return delta\n"
   ]
  },
  {
   "cell_type": "markdown",
   "metadata": {},
   "source": [
    "Recall that: \n",
    "$$a^{(l)} = g(z^{(l)}) = \\frac{1}{1 + e^{-z^{(l)}}}$$\n",
    "\n",
    "$$z^{(l)} = (\\Theta^{(l - 1)})^T a^{(l - 1)}$$\n",
    "\n",
    "And sigmoid function's first derivative: \n",
    "$$g^{'}(z^{(l)}) = g(z^{(l)}) \\cdot (1 - g(z^{(l)})) = a^{(l)} \\cdot (1 - a^{(l)})$$\n",
    "\n",
    "Shows sensitivity of the sigmoid function to the change in input $z$."
   ]
  },
  {
   "cell_type": "code",
   "execution_count": 14,
   "metadata": {},
   "outputs": [],
   "source": [
    "# %load -s sigmoid_derivative ../neural_network.py\n",
    "def sigmoid_derivative(z):\n",
    "    \"\"\"\n",
    "    Calculate sigmoid function derivative dg/dz\n",
    "    \"\"\"\n",
    "    return np.multiply(z, 1 - z)\n"
   ]
  },
  {
   "cell_type": "markdown",
   "metadata": {},
   "source": [
    "Then:\n",
    "$$\\delta^{(l)} = (\\Theta^{(l)})^T \\delta^{(l + 1)} \\cdot a^{(l)} \\cdot (1 - a^{(l)})$$\n",
    "\n",
    "Each $\\delta^{(l)}$ contributes to the total layer's delta:\n",
    "$$\\Delta^{(l)} := \\Delta^{(l)} + \\delta^{(l + 1)} (a^{(l)})^T$$\n",
    "\n",
    "Then $J(\\Theta)$ first derivative can be calculated as:\n",
    "$$\\frac{dJ}{d\\Theta^{(l)}_{ij}} = \\frac{1}{m} \\Delta^{(l)}_{ij}, j = 0$$\n",
    "$$\\frac{dJ}{d\\Theta^{(l)}_{ij}} = \\frac{1}{m} \\Delta^{(l)}_{ij} \n",
    "    + \\frac{\\lambda}{m}\\Theta^{(l)}_{ij}, j \\gt 0$$"
   ]
  },
  {
   "cell_type": "code",
   "execution_count": 15,
   "metadata": {},
   "outputs": [],
   "source": [
    "# %load -s nn_gradient ../neural_network.py\n",
    "def nn_gradient(layer_coefficients, x, y):\n",
    "    \"\"\"\n",
    "    Neural network gradient (derivative) function\n",
    "\n",
    "    :param layer_coefficients: 1 x (L - 1) array of layer coefficients vectors, where L - layers count\n",
    "    :param x: S0 x m input layer vector, where S0 - input layer units count, m - experiments count\n",
    "    :param y: SL x m expected results matrix, where SL - output layer units count, m - experiments count\n",
    "    :return: 1 x (L - 1) vector of S[l + 1] x (Sl + 1) gradient values\n",
    "    \"\"\"\n",
    "    output = forward_propagation(layer_coefficients, x)  # l, Sl x m\n",
    "    deltas = back_propagation(layer_coefficients, y, output)  # l, Sl x m\n",
    "\n",
    "    grad = []\n",
    "\n",
    "    for l in range(len(deltas)):\n",
    "        grad.append(\n",
    "            1 / y.shape[1] * np.dot(\n",
    "                deltas[l],  # S[l + 1] x m\n",
    "                np.vstack([np.ones(output[l].shape[1]), output[l]]).transpose()  # m x (Sl + 1)\n",
    "            )  # S[l + 1] x (Sl + 1)\n",
    "        )\n",
    "\n",
    "    return grad\n"
   ]
  },
  {
   "cell_type": "code",
   "execution_count": 16,
   "metadata": {},
   "outputs": [],
   "source": [
    "# %load -s nn_regularized_gradient ../neural_network.py\n",
    "def nn_regularized_gradient(unrolled_layer_coefficients, shape, x, y, regularization_rate):\n",
    "    \"\"\"\n",
    "    Regularized neural network gradient.\n",
    "    See nn_gradient description.\n",
    "    \"\"\"\n",
    "    layer_coefficients = roll_vector_to_list_of_matrices(unrolled_layer_coefficients, shape)\n",
    "\n",
    "    gradients = nn_gradient(layer_coefficients, x, y)\n",
    "\n",
    "    reg_gradients = []\n",
    "\n",
    "    for l in range(len(layer_coefficients) - 1):\n",
    "        reg_gradients.append(\n",
    "            gradients[l]  # S[l + 1] x (Sl + 1)\n",
    "            + regularization_rate / y.shape[1]\n",
    "            * np.hstack([\n",
    "                np.zeros((layer_coefficients[l].shape[0], 1)),\n",
    "                layer_coefficients[l][:, 1:]\n",
    "            ])  # S[l + 1] x (Sl + 1)\n",
    "        )\n",
    "\n",
    "    reg_gradients.append(gradients[-1])\n",
    "\n",
    "    return unroll_list_of_matrices_to_vector(reg_gradients)[1]\n"
   ]
  },
  {
   "cell_type": "code",
   "execution_count": 21,
   "metadata": {},
   "outputs": [
    {
     "name": "stdout",
     "output_type": "stream",
     "text": [
      "Warning: Desired error not necessarily achieved due to precision loss.\n",
      "         Current function value: 0.395482\n",
      "         Iterations: 78\n",
      "         Function evaluations: 243\n",
      "         Gradient evaluations: 231\n"
     ]
    }
   ],
   "source": [
    "original_shape = ((25, 401), (10, 26))\n",
    "initial_coefficients = np.random.uniform(-0.12, 0.12, 25*401 + 10*26)\n",
    "\n",
    "coefficients_vector = optimize.fmin_cg(nn_regularized_cost_function,\n",
    "                                       initial_coefficients,\n",
    "                                       fprime=nn_regularized_gradient,\n",
    "                                       args=(original_shape, x.transpose(), expected_output, 1),\n",
    "                                       maxiter=100)\n",
    "\n",
    "nn_learned_coefficients = roll_vector_to_list_of_matrices(coefficients_vector, original_shape)"
   ]
  },
  {
   "cell_type": "code",
   "execution_count": 22,
   "metadata": {},
   "outputs": [
    {
     "name": "stdout",
     "output_type": "stream",
     "text": [
      "Prediction accuracy = 98.26%\n"
     ]
    }
   ],
   "source": [
    "nn_new_predictions = [predict_digit(nn_learned_coefficients, image.reshape(image.size, 1)) for image in x]\n",
    "print_predictions_accuracy(nn_new_predictions, y)"
   ]
  },
  {
   "cell_type": "code",
   "execution_count": null,
   "metadata": {},
   "outputs": [],
   "source": []
  }
 ],
 "metadata": {
  "kernelspec": {
   "display_name": "Python 3",
   "language": "python",
   "name": "python3"
  },
  "language_info": {
   "codemirror_mode": {
    "name": "ipython",
    "version": 3
   },
   "file_extension": ".py",
   "mimetype": "text/x-python",
   "name": "python",
   "nbconvert_exporter": "python",
   "pygments_lexer": "ipython3",
   "version": "3.7.4"
  }
 },
 "nbformat": 4,
 "nbformat_minor": 2
}
