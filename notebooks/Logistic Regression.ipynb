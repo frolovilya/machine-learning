{
 "cells": [
  {
   "cell_type": "markdown",
   "metadata": {},
   "source": [
    "# Logistic Regression\n",
    "> Based on Coursera Machine Learning course assignments."
   ]
  },
  {
   "cell_type": "code",
   "execution_count": 1,
   "metadata": {},
   "outputs": [],
   "source": [
    "import sys\n",
    "sys.path.append(\"../\")"
   ]
  },
  {
   "cell_type": "code",
   "execution_count": 2,
   "metadata": {},
   "outputs": [],
   "source": [
    "import numpy as np\n",
    "from scipy import optimize\n",
    "import pandas as pd\n",
    "import matplotlib.pyplot as plt\n",
    "import math\n",
    "from logistic_regression import *\n",
    "from utils import *"
   ]
  },
  {
   "cell_type": "code",
   "execution_count": 3,
   "metadata": {
    "code_folding": [
     0
    ]
   },
   "outputs": [
    {
     "name": "stdout",
     "output_type": "stream",
     "text": [
      "      Exam A     Exam B  Admission\n",
      "0  34.623660  78.024693          0\n",
      "1  30.286711  43.894998          0\n",
      "2  35.847409  72.902198          0\n",
      "3  60.182599  86.308552          1\n",
      "4  79.032736  75.344376          1\n",
      "(100, 3)\n"
     ]
    }
   ],
   "source": [
    "# load data\n",
    "data1 = pd.read_csv(\"../data/ex2data1.csv\",\n",
    "                  names=[\"Exam A\", \"Exam B\", \"Admission\"])\n",
    "print(data1.head())\n",
    "print(data1.shape)"
   ]
  },
  {
   "cell_type": "code",
   "execution_count": 4,
   "metadata": {
    "code_folding": [
     0
    ]
   },
   "outputs": [
    {
     "data": {
      "image/png": "[encoded data removed]",
      "text/plain": [
       "<Figure size 432x288 with 1 Axes>"
      ]
     },
     "metadata": {
      "needs_background": "light"
     },
     "output_type": "display_data"
    }
   ],
   "source": [
    "# scatter plot with admitted and not admitted students\n",
    "def plot_data1():\n",
    "    admitted = data1.loc[data1[\"Admission\"] == 1]\n",
    "    not_admitted = data1.loc[data1[\"Admission\"] == 0]\n",
    "\n",
    "    plt.scatter(admitted[[\"Exam A\"]], admitted[[\"Exam B\"]], marker=\"+\")\n",
    "    plt.scatter(not_admitted[[\"Exam A\"]], not_admitted[[\"Exam B\"]], marker=\".\")\n",
    "    plt.xlabel(\"Exam A\")\n",
    "    plt.ylabel(\"Exam B\")\n",
    "    plt.title(\"Admission Results Distribution\")\n",
    "    \n",
    "plot_data1()\n",
    "plt.show()"
   ]
  },
  {
   "cell_type": "markdown",
   "metadata": {},
   "source": [
    "## Hypothesis\n",
    "\n",
    "Split data with logistic function:\n",
    "\n",
    "$$h(X^{(i)}) = \\frac{1}{1 + e^{-z}}$$\n",
    "\n",
    "Where: \n",
    "\n",
    "$$z = \\theta_0 x_0^{(i)} + \\theta_1 x_1^{(i)} + ... + \\theta_n x_n^{(i)} = \\Theta^T X^{(i)} $$\n",
    "\n",
    "$h(X^{(i)})$ ranges from 0 to 1 inclusive, represents probability $P(y = 1)$ of positive outcome.\n",
    "\n",
    "Positive ($y = 1$) when $h(X^{(i)}) \\ge 0.5; z \\ge 0$\n",
    "\n",
    "Negative ($y = 0$) when $h(X^{(i)}) \\lt 0.5; z \\lt 0$\n"
   ]
  },
  {
   "cell_type": "code",
   "execution_count": 5,
   "metadata": {},
   "outputs": [],
   "source": [
    "# %load -s sigmoid ../logistic_regression.py\n",
    "def sigmoid(z):\n",
    "    \"\"\"\n",
    "    Calculate sigmoid function\n",
    "\n",
    "    @param z: vector, e^z\n",
    "    @return: vector of sigmoid function results\n",
    "    \"\"\"\n",
    "    return 1 / (1 + np.power(math.e, -z))\n"
   ]
  },
  {
   "cell_type": "code",
   "execution_count": 6,
   "metadata": {
    "code_folding": [
     0
    ]
   },
   "outputs": [
    {
     "data": {
      "image/png": "[encoded data removed]",
      "text/plain": [
       "<Figure size 432x288 with 1 Axes>"
      ]
     },
     "metadata": {
      "needs_background": "light"
     },
     "output_type": "display_data"
    }
   ],
   "source": [
    "# plot logistic hypothesis function\n",
    "z = np.linspace(-10, 10, 100)\n",
    "h = [sigmoid(val) for val in z]\n",
    "plt.plot(z, h, \"-b\")\n",
    "plt.axhline(0.5, color='r', ls=\"--\", lw=1)\n",
    "plt.xlabel(\"Z value\")\n",
    "plt.ylabel(\"Hypothesis value\")\n",
    "plt.title(\"Logistic Hypothesis\")\n",
    "plt.show()"
   ]
  },
  {
   "cell_type": "markdown",
   "metadata": {},
   "source": [
    "## Cost Function\n",
    "Find vector of $\\Theta$ parameters which minimize $J(\\Theta)$ function:\n",
    "\n",
    "$$J(\\Theta) = - \\frac{1}{m} \\sum_{i=0}^{m} { y^{(i)} log(h(X^{(i)})) \n",
    "                       + (1 - y^{(i)}) log(1 - h(X^{(i)})) }$$"
   ]
  },
  {
   "cell_type": "code",
   "execution_count": 7,
   "metadata": {},
   "outputs": [],
   "source": [
    "# %load -s cost_function ../logistic_regression.py\n",
    "def cost_function(coefficients, x, y):\n",
    "    \"\"\"\n",
    "    Calculate cost function for logistic regression\n",
    "\n",
    "    @param coefficients: (1 x n) vector of regression coefficients\n",
    "    @param x: (m x n) matrix, m - experiments count, n - variables count\n",
    "    @param y: (m x 1) results vector\n",
    "    @return: summary cost\n",
    "    \"\"\"\n",
    "    coefficients = coefficients.reshape(coefficients.size, 1)\n",
    "\n",
    "    return - 1 / y.size * (\n",
    "            y.transpose() @ np.log(sigmoid(x @ coefficients))\n",
    "            +\n",
    "            (1 - y).transpose() @ np.log(1 - sigmoid(x @ coefficients))\n",
    "    )[0, 0]\n"
   ]
  },
  {
   "cell_type": "markdown",
   "metadata": {},
   "source": [
    "First derivative of the logistic cost function looks simillar to the one in *Linear Regression*:\n",
    "\n",
    "$$ \\theta_j = \\theta_j - \\alpha \\frac{dJ}{d\\theta_j} \n",
    "            = \\theta_j - \\alpha \\frac{1}{m} \\sum_{i=0}^{m} (h(X^{(i)}) - y^{(i)})x^{(i)}_j $$"
   ]
  },
  {
   "cell_type": "code",
   "execution_count": null,
   "metadata": {},
   "outputs": [],
   "source": [
    "# %load -s cost_function_derivative ../logistic_regression.py\n",
    "def cost_function_derivative(coefficients, x, y):\n",
    "    \"\"\"\n",
    "    Calculate cost function first derivative dJ/dC for each coefficient\n",
    "\n",
    "    @param coefficients: (1 x n) coefficients vector\n",
    "    @param x: input variables (m x (n - 1)) matrix,\n",
    "              n - variables count, m - experiments count\n",
    "    @param y: results (m x 1) vector, m - experiments count\n",
    "    @return: (n x 1) vector of derivative calculation results for each coefficient\n",
    "    \"\"\"\n",
    "    coefficients = coefficients.reshape(coefficients.size, 1)\n",
    "\n",
    "    return 1 / y.size * np.dot(\n",
    "        np.subtract(\n",
    "            sigmoid(x @ coefficients),\n",
    "            y\n",
    "        ).transpose(),  # 1 x m\n",
    "        x  # m x n\n",
    "    )[0]\n"
   ]
  },
  {
   "cell_type": "markdown",
   "metadata": {},
   "source": [
    "## Optimization\n",
    "\n",
    "Using BFGS algorithm to minimize coefficients. "
   ]
  },
  {
   "cell_type": "code",
   "execution_count": 9,
   "metadata": {
    "code_folding": [
     0
    ]
   },
   "outputs": [
    {
     "name": "stdout",
     "output_type": "stream",
     "text": [
      "Optimization terminated successfully.\n",
      "         Current function value: 0.203498\n",
      "         Iterations: 23\n",
      "         Function evaluations: 31\n",
      "         Gradient evaluations: 31\n",
      "[-25.16133284   0.2062317    0.2014716 ]\n"
     ]
    }
   ],
   "source": [
    "# find coefficients using BFGS\n",
    "x1 = concat_with_x0(data1[[\"Exam A\", \"Exam B\"]]).values\n",
    "y1 = data1[[\"Admission\"]].values\n",
    "\n",
    "np.seterr(divide = 'ignore', invalid = 'ignore')\n",
    "coefficients = optimize.fmin_bfgs(cost_function, \n",
    "                                  np.zeros(x1.shape[1]), \n",
    "                                  cost_function_derivative, \n",
    "                                  args=(x1, y1))\n",
    "print(coefficients)"
   ]
  },
  {
   "cell_type": "markdown",
   "metadata": {},
   "source": [
    "To identify decision boundary with given coefficients, need to solve the following equation:\n",
    "\n",
    "$h(X^{(i)}) = 0.5$ when $z = 0$, thus $z = \\Theta^T X = 0$"
   ]
  },
  {
   "cell_type": "code",
   "execution_count": 10,
   "metadata": {
    "code_folding": [
     0
    ]
   },
   "outputs": [
    {
     "data": {
      "image/png": "[encoded data removed]",
      "text/plain": [
       "<Figure size 432x288 with 1 Axes>"
      ]
     },
     "metadata": {
      "needs_background": "light"
     },
     "output_type": "display_data"
    }
   ],
   "source": [
    "# plot decision boundary\n",
    "x1_1 = [np.min(data1[\"Exam A\"]), np.max(data1[\"Exam A\"])]\n",
    "x1_2 = [- (coefficients[0] + coefficients[1] * x) / coefficients[2] for x in x1_1]\n",
    "plot_data1()\n",
    "plt.plot(x1_1, x1_2, \"-r\")\n",
    "plt.show()"
   ]
  },
  {
   "cell_type": "markdown",
   "metadata": {},
   "source": [
    "# Regularized Logistic Regression"
   ]
  },
  {
   "cell_type": "code",
   "execution_count": 11,
   "metadata": {
    "code_folding": [
     0
    ]
   },
   "outputs": [
    {
     "name": "stdout",
     "output_type": "stream",
     "text": [
      "     Test 1   Test 2  QA\n",
      "0  0.051267  0.69956   1\n",
      "1 -0.092742  0.68494   1\n",
      "2 -0.213710  0.69225   1\n",
      "3 -0.375000  0.50219   1\n",
      "4 -0.513250  0.46564   1\n",
      "(118, 3)\n"
     ]
    }
   ],
   "source": [
    "# load data\n",
    "data2 = pd.read_csv(\"../data/ex2data2.csv\",\n",
    "                  names=[\"Test 1\", \"Test 2\", \"QA\"])\n",
    "print(data2.head())\n",
    "print(data2.shape)"
   ]
  },
  {
   "cell_type": "code",
   "execution_count": 12,
   "metadata": {
    "code_folding": [
     0
    ]
   },
   "outputs": [
    {
     "data": {
      "image/png": "[encoded data removed]",
      "text/plain": [
       "<Figure size 432x288 with 1 Axes>"
      ]
     },
     "metadata": {
      "needs_background": "light"
     },
     "output_type": "display_data"
    }
   ],
   "source": [
    "# scatter plot with admitted and not admitted students\n",
    "def plot_data2():\n",
    "    passed = data2.loc[data2[\"QA\"] == 1]\n",
    "    failed = data2.loc[data2[\"QA\"] == 0]\n",
    "\n",
    "    plt.scatter(passed[[\"Test 1\"]], passed[[\"Test 2\"]], marker=\"+\")\n",
    "    plt.scatter(failed[[\"Test 1\"]], failed[[\"Test 2\"]], marker=\".\")\n",
    "    plt.xlabel(\"Test 1\")\n",
    "    plt.ylabel(\"Test 2\")\n",
    "    plt.title(\"QA Results\")\n",
    "    \n",
    "plot_data2()\n",
    "plt.show()"
   ]
  },
  {
   "cell_type": "markdown",
   "metadata": {},
   "source": [
    "## Feature Mapping\n",
    "\n",
    "Linear decision boundary doesn't work in this case. Will introduce feature mapping function to use polynomial features.\n",
    "\n",
    "$$mapFeatures(x_1, x_2) = \\{1, x_1, x_2, x_1^2, x_1 x_2, x_2^2, ..., x_1 x_2^5, x_2^6\\}$$"
   ]
  },
  {
   "cell_type": "code",
   "execution_count": 13,
   "metadata": {},
   "outputs": [],
   "source": [
    "def mapFeatures(x1, x2, degree):\n",
    "    \"\"\"\n",
    "    Map features to polynomial \n",
    "    \n",
    "    @param x1: (m x 1) vector of variable x1 values\n",
    "    @param x2: (m x 1) vector of variable x2 values\n",
    "    @param degree: polynomial degree\n",
    "    @return: (m x N) matrix with N polynomial features\n",
    "    \"\"\"\n",
    "    return np.concatenate([[np.power(x1, i - j) * np.power(x2, j)\n",
    "     for j in range(i + 1)] \n",
    "     for i in range(1, degree + 1)]).transpose()[0]"
   ]
  },
  {
   "cell_type": "markdown",
   "metadata": {},
   "source": [
    "## Regularized Cost Function\n",
    "\n",
    "Adding extra parameters sum to the cost function $J(\\Theta)$:\n",
    "\n",
    "$$J_{reg}(\\Theta) = J(\\Theta) + \\frac{\\lambda}{2 m} \\sum_{j=1}^n \\theta_j^2$$\n",
    "\n",
    "Where $\\lambda$ is regularization rate and $\\theta_0$ is skipped.\n",
    "\n",
    "Gradient and first derivative:\n",
    "\n",
    "$$ \\theta_j = \\theta_j - \\alpha \\frac{dJ_{reg}}{d\\theta_j} \\\\\n",
    "            = \\theta_j - \\alpha (\n",
    "                \\frac{1}{m} \\sum_{i=0}^{m} (h(X^{(i)}) - y^{(i)})x^{(i)}_j \n",
    "                + \\frac{\\lambda}{m}\\theta_j ) \\\\\n",
    "            = \\theta_j (1 - \\frac{\\alpha \\lambda}{m}) \n",
    "                - \\alpha \\frac{1}{m} \\sum_{i=0}^{m} (h(X^{(i)}) - y^{(i)})x^{(i)}_j $$\n",
    "                \n",
    "So $\\theta_j$ will be less with each gradient iteration. As the result some features may be considered insignificant."
   ]
  },
  {
   "cell_type": "code",
   "execution_count": 14,
   "metadata": {},
   "outputs": [],
   "source": [
    "# %load -s regularized_cost_function ../logistic_regression.py\n",
    "def regularized_cost_function(coefficients, x, y,\n",
    "                              regularization_rate: float):\n",
    "    c = np.reshape(coefficients[1:coefficients.size], (coefficients.size - 1, 1))\n",
    "\n",
    "    return cost_function(coefficients, x, y) \\\n",
    "           + regularization_rate / (2 * y.size) * (c.transpose() @ c)[0, 0]\n"
   ]
  },
  {
   "cell_type": "code",
   "execution_count": 15,
   "metadata": {},
   "outputs": [],
   "source": [
    "# %load -s regularized_cost_function_derivative ../logistic_regression.py\n",
    "def regularized_cost_function_derivative(coefficients, x, y,\n",
    "                                         regularization_rate: float):\n",
    "    c = np.concatenate([[0], coefficients[1:coefficients.size]])\n",
    "\n",
    "    return cost_function_derivative(coefficients, x, y) \\\n",
    "           + regularization_rate / y.size * c\n"
   ]
  },
  {
   "cell_type": "code",
   "execution_count": 16,
   "metadata": {
    "code_folding": [
     0
    ]
   },
   "outputs": [
    {
     "name": "stdout",
     "output_type": "stream",
     "text": [
      "Optimization terminated successfully.\n",
      "         Current function value: 0.529003\n",
      "         Iterations: 47\n",
      "         Function evaluations: 48\n",
      "         Gradient evaluations: 48\n",
      "[ 1.27268739  0.62557016  1.1809665  -2.01919822 -0.91761468 -1.43194199\n",
      "  0.12375921 -0.36513086 -0.35703388 -0.17485805 -1.45843772 -0.05129676\n",
      " -0.61603963 -0.2746414  -1.19282569 -0.24270336 -0.20570022 -0.04499768\n",
      " -0.27782709 -0.29525851 -0.45613294 -1.04377851  0.02762813 -0.29265642\n",
      "  0.01543393 -0.32759318 -0.14389199 -0.92460119]\n"
     ]
    }
   ],
   "source": [
    "# find optimal coefficients\n",
    "polynomial_degree = 6\n",
    "x2_mapped = mapFeatures(data2[[\"Test 1\"]].values, data2[[\"Test 2\"]].values, polynomial_degree)\n",
    "x2_mapped = np.concatenate([np.ones((x2_mapped.shape[0], 1)), x2_mapped], axis=1)\n",
    "y2 = data2[[\"QA\"]].values\n",
    "regularization_rate = 1\n",
    "\n",
    "coefficients = optimize.fmin_bfgs(regularized_cost_function, \n",
    "                                  np.zeros(x2_mapped.shape[1]), \n",
    "                                  regularized_cost_function_derivative, \n",
    "                                  args=(x2_mapped, y2, regularization_rate))\n",
    "print(coefficients)"
   ]
  },
  {
   "cell_type": "code",
   "execution_count": 17,
   "metadata": {},
   "outputs": [
    {
     "name": "stdout",
     "output_type": "stream",
     "text": [
      "83.05084745762711\n"
     ]
    }
   ],
   "source": [
    "# calculate model accuracy by comparing model outcomes with original ones \n",
    "pred = [sigmoid(x2_mapped @ coefficients) >= 0.5]\n",
    "print(np.mean(pred == y2.flatten()) * 100)"
   ]
  },
  {
   "cell_type": "code",
   "execution_count": 21,
   "metadata": {
    "code_folding": []
   },
   "outputs": [
    {
     "data": {
      "image/png": "[encoded data removed]",
      "text/plain": [
       "<Figure size 432x288 with 1 Axes>"
      ]
     },
     "metadata": {
      "needs_background": "light"
     },
     "output_type": "display_data"
    }
   ],
   "source": [
    "# plot decision boundary\n",
    "t1 = np.linspace(-1, 1.5, 50)\n",
    "t2 = np.linspace(-1, 1.5, 50)\n",
    "\n",
    "z = np.array([[coefficients @ \\\n",
    "               np.concatenate([[1], mapFeatures([t1[i]], [t2[j]], polynomial_degree)])\n",
    "      for j in range(t2.size)]\n",
    "     for i in range(t1.size)]).transpose()\n",
    "        \n",
    "plot_data2()\n",
    "plt.contour(t1, t2, z, 0)\n",
    "plt.title(\"QA Results, lambda = \" + str(regularization_rate))\n",
    "plt.show()"
   ]
  }
 ],
 "metadata": {
  "kernelspec": {
   "display_name": "Python 3",
   "language": "python",
   "name": "python3"
  },
  "language_info": {
   "codemirror_mode": {
    "name": "ipython",
    "version": 3
   },
   "file_extension": ".py",
   "mimetype": "text/x-python",
   "name": "python",
   "nbconvert_exporter": "python",
   "pygments_lexer": "ipython3",
   "version": "3.7.4"
  }
 },
 "nbformat": 4,
 "nbformat_minor": 2
}
