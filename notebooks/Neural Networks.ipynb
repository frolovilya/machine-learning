{
 "cells": [
  {
   "cell_type": "markdown",
   "metadata": {},
   "source": [
    "# Neural Networks"
   ]
  },
  {
   "cell_type": "code",
   "execution_count": 1,
   "metadata": {
    "code_folding": [
     0
    ]
   },
   "outputs": [],
   "source": [
    "# load libs\n",
    "import sys\n",
    "sys.path.append(\"../\")\n",
    "\n",
    "import numpy as np\n",
    "import scipy.io\n",
    "import matplotlib.pyplot as plt\n",
    "import math\n",
    "from neural_network import *\n",
    "from image_recognition import *\n",
    "from utils import *\n",
    "from optimize import find_coefficients"
   ]
  },
  {
   "cell_type": "markdown",
   "metadata": {},
   "source": [
    "Neural network consists of L total layers: 1 input layer ($x^{(0)}$), $L - 2$ hidden layers ($a^{(1)} ... a^{(l - 1)}$) and 1 output layer ($a^{(L)}$):\n",
    "\n",
    "$$\n",
    "\\begin{bmatrix}\n",
    "x^{(0)}_{0}\\\\\n",
    "x^{(0)}_{1}\\\\\n",
    "x^{(0)}_{2}\n",
    "\\end{bmatrix}\n",
    "\\begin{bmatrix}\n",
    "a^{(1)}_{0}\\\\\n",
    "a^{(1)}_{1}\\\\\n",
    "a^{(1)}_{2}\\\\\n",
    "a^{(1)}_{3}\\\\\n",
    "a^{(1)}_{4}\\\\\n",
    "\\end{bmatrix}\n",
    "...\n",
    "\\begin{bmatrix}\n",
    "a^{(l - 1)}_{0}\\\\\n",
    "a^{(l - 1)}_{1}\\\\\n",
    "a^{(l - 1)}_{2}\\\\\n",
    "a^{(l - 1)}_{3}\\\\\n",
    "a^{(l - 1)}_{4}\\\\\n",
    "\\end{bmatrix}\n",
    "\\begin{bmatrix}\n",
    "a^{(L)}_{0}\\\\\n",
    "a^{(L)}_{1}\\\\\n",
    "a^{(L)}_{2}\\\\\n",
    "\\end{bmatrix}\n",
    "$$\n",
    "\n",
    "Each layer's unit is a logistic regression classifier and connected to the next layer's units with edges of weight $\\theta^{(l)}_{ij}$."
   ]
  },
  {
   "cell_type": "markdown",
   "metadata": {},
   "source": [
    "## Forward Propagation\n",
    "\n",
    "Propagating values from left to right to calculate output layer's values.\n",
    "\n",
    "Input layer:\n",
    "\n",
    "$$a^{(0)} = X$$\n",
    "\n",
    "Hidden and output layers:\n",
    "\n",
    "$$a^{(l + 1)} = g((\\Theta^{(l)})^T a^{(l)})$$\n",
    "\n",
    "where $g$ is a logistic regression sigmoid function."
   ]
  },
  {
   "cell_type": "code",
   "execution_count": 2,
   "metadata": {
    "code_folding": [
     0
    ]
   },
   "outputs": [],
   "source": [
    "# load neural network data and weights\n",
    "data = scipy.io.loadmat('../data/ex3data1.mat')\n",
    "x = data['X']  # m x n^2, where m - experiments count, n - square image size\n",
    "y = data['y']  # m x 1 vector of image classes (numbers 0 - 9)\n",
    "\n",
    "weights = scipy.io.loadmat('../data/ex3weights.mat')\n",
    "nn_coefficients = (\n",
    "    weights['Theta1'],  # S1 x (n^2 + 1), where S1 - hidden layer size, n - square image size\n",
    "    weights['Theta2']   # SL x (S1 + 1), where SL - output layer size, S1 - hidden layer size\n",
    ")"
   ]
  },
  {
   "cell_type": "code",
   "execution_count": 3,
   "metadata": {
    "code_folding": [
     0
    ]
   },
   "outputs": [],
   "source": [
    "# find index of the output unit with the max value\n",
    "def predict_digit(nn_coefficients, image):\n",
    "    output_data = forward_propagation(nn_coefficients, image)[-1]\n",
    "    max_index = np.argmax(output_data) + 1\n",
    "    \n",
    "    # data set contains 10 instead of 0\n",
    "    return max_index if max_index < 10 else 0"
   ]
  },
  {
   "cell_type": "markdown",
   "metadata": {},
   "source": [
    "Predicting digits using already pre-trained neural network $\\Theta$ weights."
   ]
  },
  {
   "cell_type": "code",
   "execution_count": 4,
   "metadata": {
    "code_folding": [
     0
    ]
   },
   "outputs": [
    {
     "name": "stdout",
     "output_type": "stream",
     "text": [
      "Prediction accuracy = 97.52%\n"
     ]
    }
   ],
   "source": [
    "# predict images\n",
    "nn_predictions = [predict_digit(nn_coefficients, image.reshape(image.size, 1)) for image in x]\n",
    "print_predictions_accuracy(nn_predictions, y)"
   ]
  },
  {
   "cell_type": "code",
   "execution_count": 5,
   "metadata": {},
   "outputs": [
    {
     "name": "stdout",
     "output_type": "stream",
     "text": [
      "[7, 6, 3, 3, 3, 0, 2, 6, 5, 3, 1, 7, 3, 2, 9, 1, 2, 3, 8, 6]\n"
     ]
    },
    {
     "data": {
      "image/png": "[encoded data removed]",
      "text/plain": [
       "<Figure size 720x72 with 1 Axes>"
      ]
     },
     "metadata": {
      "needs_background": "light"
     },
     "output_type": "display_data"
    }
   ],
   "source": [
    "predict_random_images(nn_predictions, x)"
   ]
  },
  {
   "cell_type": "markdown",
   "metadata": {},
   "source": [
    "## Cost Function"
   ]
  },
  {
   "cell_type": "markdown",
   "metadata": {},
   "source": [
    "Given that $L$ - number of layers, $s_l$ - number of units in layer $l$:\n",
    "\n",
    "$$J(\\Theta) = - \\frac{1}{m} \\sum_{i=0}^{m} \\sum_{k=0}^{S_L} \n",
    "        [{ y^{(i)}_k log(h(X^{(i)})_k) + (1 - y^{(i)}_k) log(1 - h(X^{(i)})_k) }] \n",
    "    + \\frac{\\lambda}{2 m} \\sum_{l=0}^{L} \\sum_{i=0}^{s_l} \\sum_{j=1}^{s_i} (\\theta^{(l)}_{ij})^2$$\n",
    "    \n",
    "Calculating cost function as a sum of the last layer's cost functions regularized over all $\\Theta^{(l)}_{ij}$ coefficient values."
   ]
  },
  {
   "cell_type": "code",
   "execution_count": 6,
   "metadata": {
    "code_folding": [
     0
    ]
   },
   "outputs": [
    {
     "data": {
      "text/plain": [
       "0.287629165161319"
      ]
     },
     "execution_count": 6,
     "metadata": {},
     "output_type": "execute_result"
    }
   ],
   "source": [
    "# check cost function value for provided neural network coefficients\n",
    "def digit_to_output_vector(digit):\n",
    "    \"\"\"\n",
    "    Returns 10 x 1 vector with all 0 except 1 for index corresponding to the provided digit.\n",
    "    If digit == 0, then 10th element == 1.\n",
    "    \"\"\"\n",
    "    out = np.zeros(10)\n",
    "    out[9 if digit == 0 else digit - 1] = 1\n",
    "    return out\n",
    "\n",
    "\n",
    "expected_output = np.array([digit_to_output_vector(d) for d in y]).transpose()\n",
    "nn_cost_function(nn_coefficients, x.transpose(), expected_output)"
   ]
  },
  {
   "cell_type": "code",
   "execution_count": 7,
   "metadata": {
    "code_folding": [
     0
    ]
   },
   "outputs": [
    {
     "data": {
      "text/plain": [
       "0.38448779624289403"
      ]
     },
     "execution_count": 7,
     "metadata": {},
     "output_type": "execute_result"
    }
   ],
   "source": [
    "# check regularized cost function value for provided neural network coefficients\n",
    "original_shape, unrolled_nn_coefficients = unroll_list_of_matrices_to_vector(nn_coefficients)\n",
    "\n",
    "nn_regularized_cost_function(unrolled_nn_coefficients, x.transpose(), expected_output, 1, original_shape)"
   ]
  },
  {
   "cell_type": "markdown",
   "metadata": {},
   "source": [
    "## Backpropagation Algorithm"
   ]
  },
  {
   "cell_type": "markdown",
   "metadata": {},
   "source": [
    "Is used to calculate cost function first derivative over all l, i, j:\n",
    "$$\\frac{dJ}{d\\Theta^{(l)}_{ij}}$$\n",
    "\n",
    "Lets introduce cost function error $\\delta^{(l)}$ for each layer $l$ and propagate this value from right to left.\n",
    "\n",
    "For the last layer $L$: \n",
    "$$\\delta^{(L)} = a^{(L)} - y$$\n",
    "\n",
    "For $[2, L-1]$ layers:\n",
    "$$\\delta^{(l)} = (\\Theta^{(l)})^T \\delta^{(l + 1)} \\cdot g^{'}(z^{(l)})$$"
   ]
  },
  {
   "cell_type": "markdown",
   "metadata": {},
   "source": [
    "Recall that: \n",
    "$$a^{(l)} = g(z^{(l)}) = \\frac{1}{1 + e^{-z^{(l)}}}$$\n",
    "\n",
    "$$z^{(l)} = (\\Theta^{(l - 1)})^T a^{(l - 1)}$$\n",
    "\n",
    "And sigmoid function's first derivative: \n",
    "$$g^{'}(z^{(l)}) = g(z^{(l)}) \\cdot (1 - g(z^{(l)})) = a^{(l)} \\cdot (1 - a^{(l)})$$\n",
    "\n",
    "Shows sensitivity of the sigmoid function to the change in input $z$."
   ]
  },
  {
   "cell_type": "markdown",
   "metadata": {},
   "source": [
    "Then:\n",
    "$$\\delta^{(l)} = (\\Theta^{(l)})^T \\delta^{(l + 1)} \\cdot a^{(l)} \\cdot (1 - a^{(l)})$$\n",
    "\n",
    "Each $\\delta^{(l)}$ contributes to the total layer's delta:\n",
    "$$\\Delta^{(l)} := \\Delta^{(l)} + \\delta^{(l + 1)} (a^{(l)})^T$$\n",
    "\n",
    "Then $J(\\Theta)$ first derivative can be calculated as:\n",
    "$$\\frac{dJ}{d\\Theta^{(l)}_{ij}} = \\frac{1}{m} \\Delta^{(l)}_{ij}, j = 0$$\n",
    "\n",
    "$$\\frac{dJ}{d\\Theta^{(l)}_{ij}} = \\frac{1}{m} \\Delta^{(l)}_{ij} \n",
    "    + \\frac{\\lambda}{m}\\Theta^{(l)}_{ij}, j \\gt 0$$"
   ]
  },
  {
   "cell_type": "markdown",
   "metadata": {},
   "source": [
    "Train neural network, find coefficients:"
   ]
  },
  {
   "cell_type": "code",
   "execution_count": 8,
   "metadata": {},
   "outputs": [],
   "source": [
    "original_shape = ((25, 401), (10, 26))\n",
    "initial_coefficients = np.random.uniform(-0.12, 0.12, 25*401 + 10*26)\n",
    "\n",
    "coefficients_vector = find_coefficients(x.transpose(), expected_output,\n",
    "                                        nn_regularized_cost_function, nn_regularized_gradient,\n",
    "                                        regularization_rate=1, \n",
    "                                        max_iterations=50, \n",
    "                                        initial_coefficients=initial_coefficients,\n",
    "                                        additional_args=(original_shape,))\n",
    "\n",
    "nn_learned_coefficients = roll_vector_to_list_of_matrices(coefficients_vector, original_shape)"
   ]
  },
  {
   "cell_type": "code",
   "execution_count": 9,
   "metadata": {},
   "outputs": [
    {
     "name": "stdout",
     "output_type": "stream",
     "text": [
      "Prediction accuracy = 96.32%\n"
     ]
    }
   ],
   "source": [
    "nn_new_predictions = [predict_digit(nn_learned_coefficients, image.reshape(image.size, 1)) for image in x]\n",
    "print_predictions_accuracy(nn_new_predictions, y)"
   ]
  },
  {
   "cell_type": "code",
   "execution_count": 10,
   "metadata": {},
   "outputs": [
    {
     "name": "stdout",
     "output_type": "stream",
     "text": [
      "[7, 6, 1, 3, 3, 6, 0, 5, 5, 7, 9, 1, 3, 3, 0, 7, 3, 9, 2, 7]\n"
     ]
    },
    {
     "data": {
      "image/png": "[encoded data removed]",
      "text/plain": [
       "<Figure size 720x72 with 1 Axes>"
      ]
     },
     "metadata": {
      "needs_background": "light"
     },
     "output_type": "display_data"
    }
   ],
   "source": [
    "predict_random_images(nn_new_predictions, x)"
   ]
  }
 ],
 "metadata": {
  "kernelspec": {
   "display_name": "Python 3",
   "language": "python",
   "name": "python3"
  },
  "language_info": {
   "codemirror_mode": {
    "name": "ipython",
    "version": 3
   },
   "file_extension": ".py",
   "mimetype": "text/x-python",
   "name": "python",
   "nbconvert_exporter": "python",
   "pygments_lexer": "ipython3",
   "version": "3.8.1"
  }
 },
 "nbformat": 4,
 "nbformat_minor": 2
}
