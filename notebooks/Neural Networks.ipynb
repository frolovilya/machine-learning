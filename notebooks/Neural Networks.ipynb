{
 "cells": [
  {
   "cell_type": "markdown",
   "metadata": {},
   "source": [
    "# Image Recognition with Logistic Regression\n",
    "> Based on Coursera Machine Learning course assignments.\n",
    "\n",
    "See *Logistic Regression* notebook for details first."
   ]
  },
  {
   "cell_type": "code",
   "execution_count": 1,
   "metadata": {},
   "outputs": [],
   "source": [
    "import sys\n",
    "sys.path.append(\"../\")"
   ]
  },
  {
   "cell_type": "code",
   "execution_count": 2,
   "metadata": {},
   "outputs": [],
   "source": [
    "import scipy.io\n",
    "import matplotlib.pyplot as plt\n",
    "import random\n",
    "import math\n",
    "import numpy as np\n",
    "from logistic_regression import *\n",
    "from image_recognition import *\n",
    "from neural_network import *"
   ]
  },
  {
   "cell_type": "code",
   "execution_count": 3,
   "metadata": {
    "code_folding": [
     0
    ]
   },
   "outputs": [],
   "source": [
    "# load and prepare data\n",
    "def load_data():\n",
    "    data = scipy.io.loadmat('../data/ex3data1.mat')\n",
    "    x = data['X']  # m x n^2, where m - experiments count, n - square image size\n",
    "    y = data['y']  # m x 1 vector of image classes (numbers 0 - 9)\n",
    "\n",
    "    return x, y\n",
    "\n",
    "x, y = load_data()\n",
    "\n",
    "def one_vs_all(y, digit):\n",
    "    # replace 10 with 0\n",
    "    return (y == (10 if digit == 0 else digit)).astype(int)"
   ]
  },
  {
   "cell_type": "markdown",
   "metadata": {},
   "source": [
    "Using one-vs-all approach with 10 logistic regression classifiers for each digit."
   ]
  },
  {
   "cell_type": "code",
   "execution_count": 4,
   "metadata": {},
   "outputs": [],
   "source": [
    "# %load -s learn ../logistic_regression.py\n",
    "def learn(x, y, regularization_rate):\n",
    "    x = np.hstack((np.ones(x.shape[0]).reshape(x.shape[0], 1), x))\n",
    "\n",
    "    return optimize.fmin_cg(regularized_cost_function,\n",
    "                            np.zeros(x.shape[1]),\n",
    "                            fprime=regularized_cost_function_derivative,\n",
    "                            args=(x, y, regularization_rate),\n",
    "                            maxiter=50,\n",
    "                            disp=False)\n"
   ]
  },
  {
   "cell_type": "code",
   "execution_count": 5,
   "metadata": {
    "code_folding": [
     0
    ]
   },
   "outputs": [],
   "source": [
    "# learn logistic regression coefficients for all digits\n",
    "regularization_rate = 0.1\n",
    "coefficients = [learn(x, one_vs_all(y, digit), regularization_rate) for digit in range(10)]"
   ]
  },
  {
   "cell_type": "markdown",
   "metadata": {},
   "source": [
    "Find classifier index with sigmoid function:\n",
    "\n",
    "$$\\frac{1}{1 + e^{-\\Theta^T X}} \\ge 0.5$$\n"
   ]
  },
  {
   "cell_type": "code",
   "execution_count": 6,
   "metadata": {},
   "outputs": [],
   "source": [
    "# %load -s predict ../logistic_regression.py\n",
    "def predict(coefficients, x):\n",
    "    predictions = [sigmoid(np.transpose(c) @ np.concatenate([[1], x])) >= 0.5\n",
    "                   for c in coefficients]\n",
    "    return predictions.index(True) if True in predictions else -1\n"
   ]
  },
  {
   "cell_type": "code",
   "execution_count": 7,
   "metadata": {
    "code_folding": [
     0
    ]
   },
   "outputs": [
    {
     "name": "stdout",
     "output_type": "stream",
     "text": [
      "Prediction accuracy = 89.72%\n"
     ]
    }
   ],
   "source": [
    "# predict images\n",
    "predictions = [predict(coefficients, image) for image in x]\n",
    "print_predictions_accuracy(predictions, y)"
   ]
  },
  {
   "cell_type": "code",
   "execution_count": 8,
   "metadata": {},
   "outputs": [
    {
     "name": "stdout",
     "output_type": "stream",
     "text": [
      "[8, 7, 8, 9, 5, 9, 2, 9, 1, 3, 0, 5, 9, 5, 2, 3, 3, 2, 3, 5]\n"
     ]
    },
    {
     "data": {
      "image/png": "[encoded data removed]",
      "text/plain": [
       "<Figure size 432x288 with 1 Axes>"
      ]
     },
     "metadata": {
      "needs_background": "light"
     },
     "output_type": "display_data"
    }
   ],
   "source": [
    "predict_random_images(predictions, x)"
   ]
  },
  {
   "cell_type": "markdown",
   "metadata": {},
   "source": [
    "# Image Recognition with Neural Network\n",
    "Using pre-calculated network coefficients."
   ]
  },
  {
   "cell_type": "code",
   "execution_count": 9,
   "metadata": {
    "code_folding": [
     0
    ]
   },
   "outputs": [],
   "source": [
    "# load neural network weights\n",
    "weights = scipy.io.loadmat('../data/ex3weights.mat')\n",
    "nn_coefficients = (\n",
    "    weights['Theta1'],  # l1 x (n^2 + 1), where l1 - hidden layer size, n - square image size\n",
    "    weights['Theta2']   # l2 x (l1 + 1), where l2 - output layer size, l1 - hidden layer size\n",
    ")"
   ]
  },
  {
   "cell_type": "code",
   "execution_count": 10,
   "metadata": {},
   "outputs": [],
   "source": [
    "# %load -s predict_digit ../neural_network.py\n",
    "def predict_digit(layer_coefficients, input_data):\n",
    "    \"\"\"\n",
    "    Predict neural network output for input data with given trained layer coefficients.\n",
    "\n",
    "    :param layer_coefficients: array of layer coefficients\n",
    "    :param input_data: input layer data\n",
    "    :return: index of the max output\n",
    "    \"\"\"\n",
    "    input_data = input_data.reshape(input_data.size, 1)  # n x 1\n",
    "\n",
    "    for theta in layer_coefficients:\n",
    "        input_data = sigmoid(np.dot(\n",
    "            theta,  # l x (n + 1)\n",
    "            np.vstack([[1], input_data])  # (n + 1) x 1\n",
    "        ))  # l x 1\n",
    "\n",
    "    max_index = np.argmax(input_data) + 1\n",
    "\n",
    "    # data set contains 10 instead of 0\n",
    "    return max_index if max_index < 10 else 0\n"
   ]
  },
  {
   "cell_type": "code",
   "execution_count": 11,
   "metadata": {
    "code_folding": [
     0
    ]
   },
   "outputs": [
    {
     "name": "stdout",
     "output_type": "stream",
     "text": [
      "Prediction accuracy = 97.52%\n"
     ]
    }
   ],
   "source": [
    "# predict images\n",
    "nn_predictions = [predict_digit(nn_coefficients, image) for image in x]\n",
    "print_predictions_accuracy(nn_predictions, y)"
   ]
  },
  {
   "cell_type": "code",
   "execution_count": 12,
   "metadata": {},
   "outputs": [
    {
     "name": "stdout",
     "output_type": "stream",
     "text": [
      "[9, 4, 4, 0, 6, 5, 2, 3, 2, 2, 4, 9, 4, 7, 7, 3, 7, 8, 1, 4]\n"
     ]
    },
    {
     "data": {
      "image/png": "[encoded data removed]",
      "text/plain": [
       "<Figure size 432x288 with 1 Axes>"
      ]
     },
     "metadata": {
      "needs_background": "light"
     },
     "output_type": "display_data"
    }
   ],
   "source": [
    "predict_random_images(nn_predictions, x)"
   ]
  }
 ],
 "metadata": {
  "kernelspec": {
   "display_name": "Python 3",
   "language": "python",
   "name": "python3"
  },
  "language_info": {
   "codemirror_mode": {
    "name": "ipython",
    "version": 3
   },
   "file_extension": ".py",
   "mimetype": "text/x-python",
   "name": "python",
   "nbconvert_exporter": "python",
   "pygments_lexer": "ipython3",
   "version": "3.7.4"
  }
 },
 "nbformat": 4,
 "nbformat_minor": 2
}
