{
 "cells": [
  {
   "cell_type": "markdown",
   "metadata": {},
   "source": [
    "# Recommender Systems"
   ]
  },
  {
   "cell_type": "markdown",
   "metadata": {},
   "source": [
    "Let $Y \\in R^{(m, k)}$ matrix of $m$ product ratings given by $k$ users. \n",
    "Assign $x^{(i)} \\in R^n$ vector of features to each i-th product. \n",
    "\n",
    "By minimizing linear regression cost function, find $\\theta^{(j)} \\in R^n$ for each user so that \n",
    "\n",
    "$$y_{predicted}^{(i,j)} = (\\theta^{(j)})^T x^{(i)}$$\n",
    "\n",
    "gives the prediction of j-th user rating for i-th product."
   ]
  },
  {
   "cell_type": "code",
   "execution_count": 6,
   "metadata": {
    "code_folding": [
     0
    ]
   },
   "outputs": [],
   "source": [
    "# import libs\n",
    "import sys\n",
    "sys.path.append(\"../\")\n",
    "\n",
    "import matplotlib.pyplot as plt\n",
    "import numpy as np\n",
    "import scipy.io\n",
    "import re\n",
    "from scipy import optimize\n",
    "from collaborative_filtering import *"
   ]
  },
  {
   "cell_type": "code",
   "execution_count": 7,
   "metadata": {
    "code_folding": [
     0
    ]
   },
   "outputs": [
    {
     "name": "stdout",
     "output_type": "stream",
     "text": [
      "Y (1682, 943)\n",
      "R (1682, 943)\n"
     ]
    }
   ],
   "source": [
    "# load data\n",
    "data = scipy.io.loadmat('../data/ex8_movies.mat')\n",
    "y = data['Y']\n",
    "r = data['R']\n",
    "\n",
    "print(\"Y\", y.shape)\n",
    "print(\"R\", r.shape)"
   ]
  },
  {
   "cell_type": "markdown",
   "metadata": {},
   "source": [
    "## Collaborative Filtering"
   ]
  },
  {
   "cell_type": "markdown",
   "metadata": {},
   "source": [
    "Minimize linear regression cost function for both $X$ and $\\Theta$:\n",
    "\n",
    "$$J(x^{(0)}, \\dots, x^{(i)}, \\theta^{(0)}, \\dots, \\theta^{(j)}) = \n",
    "    \\frac{1}{2} \\sum_{(i,j):r(i,j)=1}{((\\theta^{(j)})^T x^{(i)} - y^{(i,j)})^2} \n",
    "        + \\frac{\\lambda}{2} \\sum_{j=0}^k (\\theta^{(j)})^2\n",
    "        + \\frac{\\lambda}{2} \\sum_{i=0}^n (x^{(i)})^2$$\n",
    "        \n",
    "Where $r(i, j)=1$ when there is a rating given by j-th user to i-th product."
   ]
  },
  {
   "cell_type": "markdown",
   "metadata": {},
   "source": [
    "Gradients:\n",
    "\n",
    "$$\\frac{dJ}{d \\theta^{(j)}_k} = \\sum_{i:r(i,j)=1}{((\\theta^{(j)})^T x^{(i)} - y^{(i,j)})} x^{(i)}_k\n",
    "    + \\lambda \\theta^{(j)}_k$$\n",
    "    \n",
    "$$\\frac{dJ}{d x^{(i)}_k} = \\sum_{j:r(i,j)=1}{((\\theta^{(j)})^T x^{(i)} - y^{(i,j)})} \\theta^{(j)}_k\n",
    "    + \\lambda x^{(i)}_k$$"
   ]
  },
  {
   "cell_type": "markdown",
   "metadata": {},
   "source": [
    "### Movie Rating Prediction\n",
    "\n",
    "Use collaborative filtering algorithm to find recommended movies for a new user."
   ]
  },
  {
   "cell_type": "code",
   "execution_count": 8,
   "metadata": {
    "code_folding": [
     0
    ]
   },
   "outputs": [],
   "source": [
    "# load movie names database\n",
    "def load_movies():\n",
    "    movies = []\n",
    "    p = re.compile(\"\\s+(.*)\\n\")\n",
    "    with open('../data/movie_ids.txt', encoding=\"iso-8859-1\") as f:\n",
    "        for line in f:\n",
    "            movies.append(p.search(line).group(1))\n",
    "            \n",
    "    return movies\n",
    "\n",
    "\n",
    "movies = load_movies()"
   ]
  },
  {
   "cell_type": "code",
   "execution_count": 9,
   "metadata": {
    "code_folding": [
     0
    ]
   },
   "outputs": [
    {
     "name": "stdout",
     "output_type": "stream",
     "text": [
      "4.0 Toy Story (1995)\n",
      "3.0 Twelve Monkeys (1995)\n",
      "5.0 Usual Suspects, The (1995)\n",
      "4.0 Outbreak (1995)\n",
      "5.0 Shawshank Redemption, The (1994)\n",
      "3.0 While You Were Sleeping (1995)\n",
      "5.0 Forrest Gump (1994)\n",
      "2.0 Silence of the Lambs, The (1991)\n",
      "4.0 Alien (1979)\n",
      "5.0 Die Hard 2 (1990)\n",
      "5.0 Sphere (1998)\n"
     ]
    }
   ],
   "source": [
    "# give ratings to some movies of the data set\n",
    "my_ratings = np.zeros((y.shape[0], 1))  # m x 1\n",
    "my_ratings[0] = 4  # Toy Story (1995)\n",
    "my_ratings[97] = 2  # Silence of the Lambs (1991)\n",
    "my_ratings[6] = 3\n",
    "my_ratings[11] = 5\n",
    "my_ratings[53] = 4\n",
    "my_ratings[63] = 5\n",
    "my_ratings[65] = 3\n",
    "my_ratings[68] = 5\n",
    "my_ratings[182] = 4\n",
    "my_ratings[225] = 5\n",
    "my_ratings[354] = 5\n",
    "\n",
    "for m in np.argwhere(my_ratings > 0)[:,0]:\n",
    "    print(my_ratings[m][0], movies[m])"
   ]
  },
  {
   "cell_type": "code",
   "execution_count": 11,
   "metadata": {
    "code_folding": [
     0
    ]
   },
   "outputs": [
    {
     "name": "stdout",
     "output_type": "stream",
     "text": [
      "Warning: Maximum number of iterations has been exceeded.\n",
      "         Current function value: 38979.628875\n",
      "         Iterations: 200\n",
      "         Function evaluations: 301\n",
      "         Gradient evaluations: 301\n"
     ]
    }
   ],
   "source": [
    "# find new set of Theta and X for each user and movie\n",
    "\n",
    "# add new ratings to Y and R matrices\n",
    "y = np.hstack((y, my_ratings))\n",
    "r = np.hstack((r, my_ratings > 0))\n",
    "\n",
    "y_means, y_norm = mean_normalize_variables(y, r)\n",
    "\n",
    "num_features = 10\n",
    "theta = np.random.rand(y.shape[1], num_features)  # k x n\n",
    "x = np.random.rand(y.shape[0], num_features)  # m x n\n",
    "\n",
    "original_shapes, cx = unroll_list_of_matrices_to_vector([theta, x])\n",
    "regularization_rate = 10\n",
    "\n",
    "optimal_values = optimize.fmin_cg(regularized_cost_function,\n",
    "                                  cx,\n",
    "                                  fprime=regularized_cost_function_derivative,\n",
    "                                  args=(y_norm, regularization_rate, original_shapes, r),\n",
    "                                  maxiter=200)\n",
    "\n",
    "new_theta, new_x = roll_vector_to_list_of_matrices(optimal_values, original_shapes)"
   ]
  },
  {
   "cell_type": "markdown",
   "metadata": {},
   "source": [
    "Find top 20 recommendations."
   ]
  },
  {
   "cell_type": "code",
   "execution_count": 12,
   "metadata": {
    "code_folding": []
   },
   "outputs": [
    {
     "name": "stdout",
     "output_type": "stream",
     "text": [
      "5.0 Marlene Dietrich: Shadow and Light (1996) \n",
      "5.0 Someone Else's America (1995)\n",
      "5.0 Great Day in Harlem, A (1994)\n",
      "5.0 Aiqing wansui (1994)\n",
      "5.0 Santa with Muscles (1996)\n",
      "5.0 They Made Me a Criminal (1939)\n",
      "5.0 Entertaining Angels: The Dorothy Day Story (1996)\n",
      "5.0 Saint of Fort Washington, The (1993)\n",
      "5.0 Star Kid (1997)\n",
      "5.0 Prefontaine (1997)\n",
      "4.6 Pather Panchali (1955)\n",
      "4.5 Wrong Trousers, The (1993)\n",
      "4.5 Shawshank Redemption, The (1994)\n",
      "4.5 Maya Lin: A Strong Clear Vision (1994)\n",
      "4.5 Star Wars (1977)\n",
      "4.5 Anna (1996)\n",
      "4.5 Some Mother's Son (1996)\n",
      "4.5 Everest (1998)\n",
      "4.5 Titanic (1997)\n",
      "4.5 Wallace & Gromit: The Best of Aardman Animation (1996)\n"
     ]
    }
   ],
   "source": [
    "# find recommendations for each movie\n",
    "my_recommendations = new_x @ new_theta[-1,:].transpose().reshape((new_x.shape[1], 1)) + y_means\n",
    "my_recommendations = np.hstack((\n",
    "    np.arange(my_recommendations.shape[0], dtype=int).reshape(my_recommendations.shape), \n",
    "    my_recommendations\n",
    "))\n",
    "\n",
    "my_recommendations = my_recommendations[np.argsort(my_recommendations[:, 1])][::-1]\n",
    "\n",
    "for index, rating in my_recommendations[0:20,:]:\n",
    "    print(round(rating, 1), movies[int(index)])"
   ]
  }
 ],
 "metadata": {
  "kernelspec": {
   "display_name": "Python 3",
   "language": "python",
   "name": "python3"
  },
  "language_info": {
   "codemirror_mode": {
    "name": "ipython",
    "version": 3
   },
   "file_extension": ".py",
   "mimetype": "text/x-python",
   "name": "python",
   "nbconvert_exporter": "python",
   "pygments_lexer": "ipython3",
   "version": "3.8.1"
  }
 },
 "nbformat": 4,
 "nbformat_minor": 4
}
