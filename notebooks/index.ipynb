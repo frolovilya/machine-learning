{
 "cells": [
  {
   "cell_type": "markdown",
   "metadata": {},
   "source": [
    "# [Machine Learning](https://github.com/frolovilya/machine-learning)"
   ]
  },
  {
   "cell_type": "markdown",
   "metadata": {},
   "source": [
    "Machine learning Python notebooks based on the \n",
    "[ML Course](https://www.coursera.org/learn/machine-learning/home/welcome) assignments.\n",
    "\n",
    "* [Linear Regression](https://frolovilya.github.io/machine-learning/docs/linear_regression.html)\n",
    "* [Logistic Regression](https://frolovilya.github.io/machine-learning/docs/logistic_regression.html)\n",
    "* [Neural Networks](https://frolovilya.github.io/machine-learning/docs/neural_networks.html)\n",
    "* [Support Vector Machines](https://frolovilya.github.io/machine-learning/docs/support_vector_machines.html)\n",
    "* [K-means Clustering](https://frolovilya.github.io/machine-learning/docs/k_means_clustering.html)\n",
    "* [Principal Components Analysis](https://frolovilya.github.io/machine-learning/docs/principal_components_analysis.html)\n",
    "* [Anomaly Detection](https://frolovilya.github.io/machine-learning/docs/anomaly_detection.html)\n",
    "* [Recommender Systems](https://frolovilya.github.io/machine-learning/docs/recommender_systems.html)"
   ]
  },
  {
   "cell_type": "markdown",
   "metadata": {},
   "source": [
    "## Running Notebooks"
   ]
  },
  {
   "cell_type": "markdown",
   "metadata": {},
   "source": [
    "```\n",
    "git clone https://github.com/frolovilya/machine-learning.git\n",
    "pip3 install -r requirements.txt\n",
    "source ~/.bash_profile\n",
    "jupyter notebook\n",
    "```"
   ]
  }
 ],
 "metadata": {
  "kernelspec": {
   "display_name": "Python 3",
   "language": "python",
   "name": "python3"
  },
  "language_info": {
   "codemirror_mode": {
    "name": "ipython",
    "version": 3
   },
   "file_extension": ".py",
   "mimetype": "text/x-python",
   "name": "python",
   "nbconvert_exporter": "python",
   "pygments_lexer": "ipython3",
   "version": "3.8.1"
  }
 },
 "nbformat": 4,
 "nbformat_minor": 4
}
