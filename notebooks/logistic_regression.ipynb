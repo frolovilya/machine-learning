{
 "cells": [
  {
   "cell_type": "markdown",
   "metadata": {},
   "source": [
    "# [Machine Learning](https://github.com/frolovilya/machine-learning/#machine-learning) / Logistic Regression"
   ]
  },
  {
   "cell_type": "markdown",
   "metadata": {},
   "source": [
    "> See sources\n",
    "> * [logistic_regression.py](https://github.com/frolovilya/machine-learning/blob/master/logistic_regression.py)\n",
    "> * [optimize.py](https://github.com/frolovilya/machine-learning/blob/master/optimize.py)\n",
    "> * [image_recognition.py](https://github.com/frolovilya/machine-learning/blob/master/image_recognition.py)\n",
    "> * [utils.py](https://github.com/frolovilya/machine-learning/blob/master/utils.py)"
   ]
  },
  {
   "cell_type": "code",
   "execution_count": 1,
   "metadata": {
    "code_folding": []
   },
   "outputs": [],
   "source": [
    "# load libs\n",
    "import sys\n",
    "sys.path.append(\"../\")\n",
    "\n",
    "import numpy as np\n",
    "import scipy.io\n",
    "import pandas as pd\n",
    "import matplotlib.pyplot as plt\n",
    "import math\n",
    "from logistic_regression import *\n",
    "from image_recognition import *\n",
    "from utils import *\n",
    "from optimize import find_coefficients"
   ]
  },
  {
   "cell_type": "code",
   "execution_count": 2,
   "metadata": {
    "code_folding": []
   },
   "outputs": [
    {
     "name": "stdout",
     "output_type": "stream",
     "text": [
      "      Exam A     Exam B  Admission\n",
      "0  34.623660  78.024693          0\n",
      "1  30.286711  43.894998          0\n",
      "2  35.847409  72.902198          0\n",
      "3  60.182599  86.308552          1\n",
      "4  79.032736  75.344376          1\n",
      "(100, 3)\n"
     ]
    }
   ],
   "source": [
    "def load_admission_data():\n",
    "    return pd.read_csv(\"../data/ex2data1.csv\",\n",
    "                       names=[\"Exam A\", \"Exam B\", \"Admission\"])\n",
    "\n",
    "\n",
    "admission_data = load_admission_data()\n",
    "print(admission_data.head())\n",
    "print(admission_data.shape)"
   ]
  },
  {
   "cell_type": "code",
   "execution_count": 3,
   "metadata": {
    "code_folding": []
   },
   "outputs": [
    {
     "data": {
      "image/png": "[encoded data removed]",
      "text/plain": [
       "<Figure size 432x288 with 1 Axes>"
      ]
     },
     "metadata": {
      "needs_background": "light"
     },
     "output_type": "display_data"
    }
   ],
   "source": [
    "# scatter plot with admitted and not admitted students\n",
    "def plot_admission_data(show = True):\n",
    "    admitted = admission_data.loc[admission_data[\"Admission\"] == 1]\n",
    "    not_admitted = admission_data.loc[admission_data[\"Admission\"] == 0]\n",
    "\n",
    "    plt.scatter(admitted[[\"Exam A\"]], admitted[[\"Exam B\"]], marker=\"+\")\n",
    "    plt.scatter(not_admitted[[\"Exam A\"]], not_admitted[[\"Exam B\"]], marker=\".\")\n",
    "    plt.xlabel(\"Exam A\")\n",
    "    plt.ylabel(\"Exam B\")\n",
    "    plt.title(\"Admission Results Distribution\")\n",
    "    if show:\n",
    "        plt.show()\n",
    "    \n",
    "\n",
    "plot_admission_data()"
   ]
  },
  {
   "cell_type": "markdown",
   "metadata": {},
   "source": [
    "## Hypothesis\n",
    "\n",
    "Split data with logistic function:\n",
    "\n",
    "$$h(X^{(i)}) = \\frac{1}{1 + e^{-z}}$$\n",
    "\n",
    "Where: \n",
    "\n",
    "$$z = \\theta_0 x_0^{(i)} + \\theta_1 x_1^{(i)} + ... + \\theta_n x_n^{(i)} = \\Theta^T X^{(i)} $$\n",
    "\n",
    "$h(X^{(i)})$ ranges from 0 to 1 inclusive, represents probability $P(y = 1)$ of positive outcome.\n",
    "\n",
    "Positive ($y = 1$) when $h(X^{(i)}) \\ge 0.5; z \\ge 0$\n",
    "\n",
    "Negative ($y = 0$) when $h(X^{(i)}) \\lt 0.5; z \\lt 0$\n"
   ]
  },
  {
   "cell_type": "code",
   "execution_count": 4,
   "metadata": {
    "code_folding": []
   },
   "outputs": [
    {
     "data": {
      "image/png": "[encoded data removed]",
      "text/plain": [
       "<Figure size 432x288 with 1 Axes>"
      ]
     },
     "metadata": {
      "needs_background": "light"
     },
     "output_type": "display_data"
    }
   ],
   "source": [
    "def plot_logistic_hypothesis_function(show = True):\n",
    "    z = np.linspace(-10, 10, 100)\n",
    "    h = [sigmoid(val) for val in z]\n",
    "    plt.plot(z, h, \"-b\")\n",
    "    plt.axhline(0.5, color='r', ls=\"--\", lw=1)\n",
    "    plt.xlabel(\"Z value\")\n",
    "    plt.ylabel(\"Hypothesis value\")\n",
    "    plt.title(\"Logistic Hypothesis\")\n",
    "    if show:\n",
    "        plt.show()\n",
    "    \n",
    "\n",
    "plot_logistic_hypothesis_function()"
   ]
  },
  {
   "cell_type": "markdown",
   "metadata": {},
   "source": [
    "## Cost Function\n",
    "Find vector of $\\Theta$ parameters which minimize $J(\\Theta)$ function:\n",
    "\n",
    "$$J(\\Theta) = - \\frac{1}{m} \\sum_{i=0}^{m}[ { y^{(i)} log(h(X^{(i)})) \n",
    "                       + (1 - y^{(i)}) log(1 - h(X^{(i)})) }]$$"
   ]
  },
  {
   "cell_type": "markdown",
   "metadata": {},
   "source": [
    "First derivative of the logistic cost function looks simillar to the one in *Linear Regression*:\n",
    "\n",
    "$$ \\theta_j = \\theta_j - \\alpha \\frac{dJ}{d\\theta_j} \n",
    "            = \\theta_j - \\alpha \\frac{1}{m} \\sum_{i=0}^{m} (h(X^{(i)}) - y^{(i)})x^{(i)}_j $$"
   ]
  },
  {
   "cell_type": "markdown",
   "metadata": {},
   "source": [
    "## Optimization\n",
    "\n",
    "Using BFGS algorithm to minimize coefficients. "
   ]
  },
  {
   "cell_type": "code",
   "execution_count": 5,
   "metadata": {
    "code_folding": []
   },
   "outputs": [
    {
     "name": "stdout",
     "output_type": "stream",
     "text": [
      "[-24.99171962   0.20487724   0.2000979 ]\n"
     ]
    }
   ],
   "source": [
    "# find coefficients\n",
    "x1 = concat_with_x0(admission_data[[\"Exam A\", \"Exam B\"]])\n",
    "y1 = admission_data[[\"Admission\"]].values\n",
    "\n",
    "coefficients = find_coefficients(x1, y1, \n",
    "                                 regularized_cost_function, regularized_cost_function_derivative, 0)\n",
    "\n",
    "print(coefficients)"
   ]
  },
  {
   "cell_type": "markdown",
   "metadata": {},
   "source": [
    "To identify decision boundary with given coefficients, need to solve the following equation:\n",
    "\n",
    "$h(X^{(i)}) = 0.5$ when $z = 0$, thus $z = \\Theta^T X = 0$"
   ]
  },
  {
   "cell_type": "code",
   "execution_count": 6,
   "metadata": {
    "code_folding": []
   },
   "outputs": [
    {
     "data": {
      "image/png": "[encoded data removed]",
      "text/plain": [
       "<Figure size 432x288 with 1 Axes>"
      ]
     },
     "metadata": {
      "needs_background": "light"
     },
     "output_type": "display_data"
    }
   ],
   "source": [
    "def plot_admission_results_decision_boundary():\n",
    "    x1_1 = [np.min(admission_data[\"Exam A\"]), np.max(admission_data[\"Exam A\"])]\n",
    "    x1_2 = [- (coefficients[0] + coefficients[1] * x) / coefficients[2] for x in x1_1]\n",
    "    plt.plot(x1_1, x1_2, \"-r\")\n",
    "    plt.show()\n",
    "    \n",
    "\n",
    "plot_admission_data(False)\n",
    "plot_admission_results_decision_boundary()"
   ]
  },
  {
   "cell_type": "markdown",
   "metadata": {},
   "source": [
    "# Regularized Logistic Regression"
   ]
  },
  {
   "cell_type": "code",
   "execution_count": 7,
   "metadata": {
    "code_folding": []
   },
   "outputs": [
    {
     "name": "stdout",
     "output_type": "stream",
     "text": [
      "     Test 1   Test 2  QA\n",
      "0  0.051267  0.69956   1\n",
      "1 -0.092742  0.68494   1\n",
      "2 -0.213710  0.69225   1\n",
      "3 -0.375000  0.50219   1\n",
      "4 -0.513250  0.46564   1\n",
      "(118, 3)\n"
     ]
    }
   ],
   "source": [
    "# load data\n",
    "def load_qa_data():\n",
    "    return pd.read_csv(\"../data/ex2data2.csv\", names=[\"Test 1\", \"Test 2\", \"QA\"])\n",
    "\n",
    "\n",
    "qa_data = load_qa_data()\n",
    "print(qa_data.head())\n",
    "print(qa_data.shape)"
   ]
  },
  {
   "cell_type": "code",
   "execution_count": 8,
   "metadata": {
    "code_folding": []
   },
   "outputs": [
    {
     "data": {
      "image/png": "[encoded data removed]",
      "text/plain": [
       "<Figure size 432x288 with 1 Axes>"
      ]
     },
     "metadata": {
      "needs_background": "light"
     },
     "output_type": "display_data"
    }
   ],
   "source": [
    "# scatter plot with admitted and not admitted students\n",
    "def plot_qa_data(show = True):\n",
    "    passed = qa_data.loc[qa_data[\"QA\"] == 1]\n",
    "    failed = qa_data.loc[qa_data[\"QA\"] == 0]\n",
    "\n",
    "    plt.scatter(passed[[\"Test 1\"]], passed[[\"Test 2\"]], marker=\"+\")\n",
    "    plt.scatter(failed[[\"Test 1\"]], failed[[\"Test 2\"]], marker=\".\")\n",
    "    plt.xlabel(\"Test 1\")\n",
    "    plt.ylabel(\"Test 2\")\n",
    "    plt.title(\"QA Results\")\n",
    "    if show:\n",
    "        plt.show()\n",
    "    \n",
    "\n",
    "plot_qa_data()"
   ]
  },
  {
   "cell_type": "markdown",
   "metadata": {},
   "source": [
    "## Feature Mapping\n",
    "\n",
    "Linear decision boundary doesn't work in this case. Will introduce feature mapping function to use polynomial features.\n",
    "\n",
    "$$mapFeatures(x_1, x_2) = \\{1, x_1, x_2, x_1^2, x_1 x_2, x_2^2, ..., x_1 x_2^5, x_2^6\\}$$"
   ]
  },
  {
   "cell_type": "markdown",
   "metadata": {},
   "source": [
    "## Regularized Cost Function\n",
    "\n",
    "Adding extra parameters sum to the cost function $J(\\Theta)$:\n",
    "\n",
    "$$J_{reg}(\\Theta) = J(\\Theta) + \\frac{\\lambda}{2 m} \\sum_{j=1}^n \\theta_j^2$$\n",
    "\n",
    "Where $\\lambda$ is regularization rate and $\\theta_0$ is skipped.\n",
    "\n",
    "Gradient and first derivative:\n",
    "\n",
    "$$ \\theta_j = \\theta_j - \\alpha \\frac{dJ_{reg}}{d\\theta_j} \\\\\n",
    "            = \\theta_j - \\alpha (\n",
    "                \\frac{1}{m} \\sum_{i=0}^{m} (h(X^{(i)}) - y^{(i)})x^{(i)}_j \n",
    "                + \\frac{\\lambda}{m}\\theta_j ) \\\\\n",
    "            = \\theta_j (1 - \\frac{\\alpha \\lambda}{m}) \n",
    "                - \\alpha \\frac{1}{m} \\sum_{i=0}^{m} (h(X^{(i)}) - y^{(i)})x^{(i)}_j $$\n",
    "                \n",
    "So $\\theta_j$ will be less with each gradient iteration. As the result some features may be considered insignificant."
   ]
  },
  {
   "cell_type": "code",
   "execution_count": 9,
   "metadata": {
    "code_folding": []
   },
   "outputs": [
    {
     "name": "stdout",
     "output_type": "stream",
     "text": [
      "[ 1.2726322   0.62526851  1.18110054 -2.01977776 -0.91750969 -1.43140105\n",
      "  0.12396937 -0.36542088 -0.35720348 -0.17516018 -1.45817404 -0.05109747\n",
      " -0.61556197 -0.2747374  -1.19275643 -0.24225813 -0.20594332 -0.04478629\n",
      " -0.27777193 -0.29534671 -0.45647333 -1.04328679  0.02771439 -0.29243876\n",
      "  0.01551392 -0.3273817  -0.14391016 -0.92473298]\n"
     ]
    }
   ],
   "source": [
    "# find optimal coefficients\n",
    "polynomial_degree = 6\n",
    "x2_mapped = map_features(qa_data[[\"Test 1\"]].values, qa_data[[\"Test 2\"]].values, polynomial_degree)\n",
    "x2_mapped = concat_with_x0(x2_mapped)\n",
    "y2 = qa_data[[\"QA\"]].values\n",
    "regularization_rate = 1\n",
    "\n",
    "coefficients = find_coefficients(x2_mapped, y2, \n",
    "                                 regularized_cost_function, regularized_cost_function_derivative, \n",
    "                                 regularization_rate)\n",
    "\n",
    "print(coefficients)"
   ]
  },
  {
   "cell_type": "code",
   "execution_count": 10,
   "metadata": {
    "code_folding": []
   },
   "outputs": [
    {
     "name": "stdout",
     "output_type": "stream",
     "text": [
      "83.05084745762711\n"
     ]
    }
   ],
   "source": [
    "# calculate model accuracy by comparing model outcomes with original ones \n",
    "pred = [sigmoid(x2_mapped @ coefficients) >= 0.5]\n",
    "print(np.mean(pred == y2.flatten()) * 100)"
   ]
  },
  {
   "cell_type": "code",
   "execution_count": 11,
   "metadata": {
    "code_folding": []
   },
   "outputs": [
    {
     "data": {
      "image/png": "[encoded data removed]",
      "text/plain": [
       "<Figure size 432x288 with 1 Axes>"
      ]
     },
     "metadata": {
      "needs_background": "light"
     },
     "output_type": "display_data"
    }
   ],
   "source": [
    "# plot decision boundary\n",
    "def plot_qa_data_decision_boundary():\n",
    "    t1 = np.linspace(-1, 1.5, 50)\n",
    "    t2 = np.linspace(-1, 1.5, 50)\n",
    "\n",
    "    z = np.array([[coefficients @ \\\n",
    "                   np.concatenate([[1], map_features([t1[i]], [t2[j]], polynomial_degree)])\n",
    "          for j in range(t2.size)]\n",
    "         for i in range(t1.size)]).transpose()\n",
    "    \n",
    "    plt.contour(t1, t2, z, 0)\n",
    "    plt.title(\"QA Results, lambda = \" + str(regularization_rate))\n",
    "    \n",
    "        \n",
    "plot_qa_data(False)\n",
    "plot_qa_data_decision_boundary()\n",
    "plt.show()"
   ]
  },
  {
   "cell_type": "markdown",
   "metadata": {},
   "source": [
    "# Image Recognition with Logistic Regression\n",
    "\n",
    "Using one-vs-all approach to train 10 separate logistic regression classifiers and find the one with:\n",
    "\n",
    "$$\\frac{1}{1 + e^{-\\Theta^T X}} \\ge 0.5$$"
   ]
  },
  {
   "cell_type": "code",
   "execution_count": 12,
   "metadata": {
    "code_folding": []
   },
   "outputs": [],
   "source": [
    "# load and prepare data\n",
    "def load_image_data():\n",
    "    data = scipy.io.loadmat('../data/ex3data1.mat')\n",
    "    x = data['X']  # m x n^2, where m - experiments count, n - square image size\n",
    "    y = data['y']  # m x 1 vector of image classes (numbers 0 - 9)\n",
    "\n",
    "    return x, y\n",
    "\n",
    "x, y = load_image_data()"
   ]
  },
  {
   "cell_type": "code",
   "execution_count": 13,
   "metadata": {},
   "outputs": [],
   "source": [
    "def replace_0_with_10(y, digit):\n",
    "    \"\"\"\n",
    "    Replace 0 with 10s, because of data representation\n",
    "    \"\"\"\n",
    "    return (y == (10 if digit == 0 else digit)).astype(int)"
   ]
  },
  {
   "cell_type": "code",
   "execution_count": 14,
   "metadata": {
    "code_folding": []
   },
   "outputs": [],
   "source": [
    "# train 10 logistic regression classifiers for every digit\n",
    "regularization_rate = 0.1\n",
    "coefficients = [fit_logistic_regression(x, replace_0_with_10(y, digit), \n",
    "                                        regularization_rate, 50) for digit in range(10)]"
   ]
  },
  {
   "cell_type": "code",
   "execution_count": 15,
   "metadata": {
    "code_folding": []
   },
   "outputs": [
    {
     "name": "stdout",
     "output_type": "stream",
     "text": [
      "Prediction accuracy = 89.56%\n"
     ]
    }
   ],
   "source": [
    "# predict images\n",
    "predictions = [predict_digit(coefficients, image) for image in x]  # 1 x m vector of predictions for each image\n",
    "print_predictions_accuracy(predictions, y)"
   ]
  },
  {
   "cell_type": "code",
   "execution_count": 16,
   "metadata": {},
   "outputs": [
    {
     "name": "stdout",
     "output_type": "stream",
     "text": [
      "[3, 6, 8, 6, 6, 6, 6, 8, 1, 6, 2, 7, 7, 8, 0, 2, 2, 6, 8, 2]\n"
     ]
    },
    {
     "data": {
      "image/png": "[encoded data removed]",
      "text/plain": [
       "<Figure size 720x72 with 1 Axes>"
      ]
     },
     "metadata": {
      "needs_background": "light"
     },
     "output_type": "display_data"
    }
   ],
   "source": [
    "predict_random_images(predictions, x)"
   ]
  }
 ],
 "metadata": {
  "kernelspec": {
   "display_name": "Python 3",
   "language": "python",
   "name": "python3"
  },
  "language_info": {
   "codemirror_mode": {
    "name": "ipython",
    "version": 3
   },
   "file_extension": ".py",
   "mimetype": "text/x-python",
   "name": "python",
   "nbconvert_exporter": "python",
   "pygments_lexer": "ipython3",
   "version": "3.8.1"
  }
 },
 "nbformat": 4,
 "nbformat_minor": 2
}
